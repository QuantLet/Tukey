{
  "nbformat": 4,
  "nbformat_minor": 0,
  "metadata": {
    "colab": {
      "name": "TukeyEmpirical.ipynb",
      "provenance": [],
      "include_colab_link": true
    },
    "kernelspec": {
      "name": "python3",
      "display_name": "Python 3"
    },
    "language_info": {
      "name": "python"
    }
  },
  "cells": [
    {
      "cell_type": "markdown",
      "metadata": {
        "id": "view-in-github",
        "colab_type": "text"
      },
      "source": [
        "<a href=\"https://colab.research.google.com/github/AlexH20/Tukey/blob/master/TukeyEmpirical/TukeyEmpirical.ipynb\" target=\"_parent\"><img src=\"https://colab.research.google.com/assets/colab-badge.svg\" alt=\"Open In Colab\"/></a>"
      ]
    },
    {
      "cell_type": "code",
      "execution_count": 16,
      "metadata": {
        "colab": {
          "base_uri": "https://localhost:8080/",
          "height": 336
        },
        "id": "Zx6YAWkNZYz6",
        "outputId": "8a0036ca-5f70-4ffd-d489-995282de5b3b"
      },
      "outputs": [
        {
          "output_type": "stream",
          "name": "stdout",
          "text": [
            "Drive already mounted at /content/gdrive; to attempt to forcibly remount, call drive.mount(\"/content/gdrive\", force_remount=True).\n",
            "[-0.0475977  -0.04116385 -0.03927213 ...  0.04019725  0.0420891\n",
            "  0.04852346]\n"
          ]
        },
        {
          "output_type": "execute_result",
          "data": {
            "text/plain": [
              "[<matplotlib.lines.Line2D at 0x7f1b2d8ddb90>]"
            ]
          },
          "metadata": {},
          "execution_count": 16
        },
        {
          "output_type": "display_data",
          "data": {
            "text/plain": [
              "<Figure size 432x288 with 1 Axes>"
            ],
            "image/png": "[encoded data removed]"
          },
          "metadata": {
            "needs_background": "light"
          }
        }
      ],
      "source": [
        "import pandas as pd\n",
        "import numpy as np\n",
        "import matplotlib.pyplot as plt\n",
        "from google.colab import drive \n",
        "import scipy.stats as stats\n",
        "import scipy.optimize as opt\n",
        "from scipy.stats import norm\n",
        "import matplotlib.pyplot as plt\n",
        "\n",
        "drive.mount(\"/content/gdrive\")\n",
        "\n",
        "def tukeyroot2(x):\n",
        "\n",
        "  F1 = -S+((3*np.exp(x[0]**2/(2-6*x[1]))+np.exp(9*x[0]**2/(2-6*x[1]))-3*np.exp(2*x[0]**2/(1-3*x[1]))-1)/(x[0]**3*(1-3*x[1])**(1/2))-\n",
        "    3*((np.exp(x[0]**2/(2-2*x[1]))-1)/(x[0]*(1-x[1])**(1/2)))*((1-2*np.exp(x[0]**2/(2-4*x[1]))+np.exp(2*x[0]**2/(1-2*x[1])))/(x[0]**2*(1-2*x[1])**(1/2)))+\n",
        "    2*((np.exp(x[0]**2/(2-2*x[1]))-1)/(x[0]*(1-x[1])**(1/2)))**3)/(((1-2*np.exp(x[0]**2/(2-4*x[1]))+np.exp(2*x[0]**2/(1-2*x[1])))/(x[0]**2*(1-2*x[1])**(1/2)))-\n",
        "    ((np.exp(x[0]**2/(2-2*x[1]))-1)/(x[0]*(1-x[1])**(1/2)))**2)**(3/2)\n",
        "    \n",
        "    \n",
        "    \n",
        "  F2 = -K+(((np.exp(8*x[0]**2/(1-4*x[1]))*(1+6*np.exp(6*x[0]**2/(4*x[1]-1))+np.exp(8*x[0]**2/(4*x[1]-1))-4*np.exp(7*x[0]**2/(8*x[1]-2))-4*np.exp(15*x[0]**2/(8*x[1]-2))))/(x[0]**4*(1-4*x[1])**(1/2)))-\n",
        "    4*((3*np.exp(x[0]**2/(2-6*x[1]))+np.exp(9*x[0]**2/(2-6*x[1]))-3*np.exp(2*x[0]**2/(1-3*x[1]))-1)/(x[0]**3*(1-3*x[1])**(1/2)))*((np.exp(x[0]**2/(2-2*x[1]))-1)/(x[0]*(1-x[1])**(1/2)))-\n",
        "    3*((1-2*np.exp(x[0]**2/(2-4*x[1]))+np.exp(2*x[0]**2/(1-2*x[1])))/(x[0]**2*(1-2*x[1])**(1/2)))**2+\n",
        "    12*((1-2*np.exp(x[0]**2/(2-4*x[1]))+np.exp(2*x[0]**2/(1-2*x[1])))/(x[0]**2*(1-2*x[1])**(1/2)))*((np.exp(x[0]**2/(2-2*x[1]))-1)/(x[0]*(1-x[1])**(1/2)))**2-\n",
        "     6*((np.exp(x[0]**2/(2-2*x[1]))-1)/(x[0]*(1-x[1])**(1/2)))**4)/((((1-2*np.exp(x[0]**2/(2-4*x[1]))+np.exp(2*x[0]**2/(1-2*x[1])))/(x[0]**2*(1-2*x[1])**(1/2)))-((np.exp(x[0]**2/(2-2*x[1]))-1)/(x[0]*(1-x[1])**(1/2)))**2)**2)\n",
        "\n",
        "  return [F1, F2]\n",
        "\n",
        "\n",
        "\n",
        "#Read data either locally or from gdrive\n",
        "dax = pd.read_csv(\"gdrive/My Drive/dax2Y.csv\", delimiter = \";\", usecols = [1], header = None)\n",
        "dax.dropna(inplace = True)\n",
        "dax.rename(columns={dax.columns[0]: \"Dax\"}, inplace = True)\n",
        "dax[\"Dax\"] = [float(x.replace(\",\", \".\")) for x in dax[\"Dax\"]]\n",
        "\n",
        "#Get Dax returns\n",
        "dax[\"Dax\"] = dax[\"Dax\"].pct_change(1)\n",
        "dax.dropna(inplace = True)\n",
        "\n",
        "S = stats.skew(dax[\"Dax\"])\n",
        "K = stats.kurtosis(dax[\"Dax\"])\n",
        "mean = np.mean(dax[\"Dax\"])\n",
        "std = np.std(dax[\"Dax\"])\n",
        "\n",
        "#Find 'g' and 'h' values by solving the system of nonlinear equations\n",
        "x0 = [1.1, 0.1]\n",
        "x = opt.fsolve(tukeyroot2, x0)\n",
        "\n",
        "g = x[0]\n",
        "h = x[1]\n",
        "\n",
        "#Calculate two central moments of Tukey distribution as well as expectation and variance\n",
        "E1 = (np.exp(x[0]**2/(2-2*x[1]))-1)/(x[0]*(1-x[1])**(1/2))\n",
        "E2 = (1-2*np.exp(x[0]**2/(2-4*x[1]))+np.exp(2*x[0]**2/(1-2*x[1])))/(x[0]**2*(1-2*x[1])**(1/2))\n",
        "\n",
        "tukey_mean = E1\n",
        "tukey_variance = E2-E1**2\n",
        "\n",
        "#For reference see Headrick et al. (2008), \"Parametric probability\n",
        "#densities and distribution functions for Tukey g- and h- Transformations\n",
        "#and their Use for Fitting Data\", Applied Mathematical Science 2/9,\n",
        "#449-462.\n",
        "\n"
      ]
    }
  ]
}