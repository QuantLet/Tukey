{
  "nbformat": 4,
  "nbformat_minor": 0,
  "metadata": {
    "colab": {
      "name": "TukeyQuantiles.ipynb",
      "provenance": [],
      "collapsed_sections": [],
      "authorship_tag": "ABX9TyOlDkXNEQPaihrtpiwtQAs5",
      "include_colab_link": true
    },
    "kernelspec": {
      "name": "python3",
      "display_name": "Python 3"
    },
    "language_info": {
      "name": "python"
    }
  },
  "cells": [
    {
      "cell_type": "markdown",
      "metadata": {
        "id": "view-in-github",
        "colab_type": "text"
      },
      "source": [
        "<a href=\"https://colab.research.google.com/github/AlexH20/Tukey/blob/master/TukeyQuantiles.ipynb\" target=\"_parent\"><img src=\"https://colab.research.google.com/assets/colab-badge.svg\" alt=\"Open In Colab\"/></a>"
      ]
    },
    {
      "cell_type": "code",
      "execution_count": null,
      "metadata": {
        "colab": {
          "base_uri": "https://localhost:8080/"
        },
        "id": "fvoEnYCPJ9_C",
        "outputId": "c4ab39a6-80e3-4089-a3ee-bf834ed968f8"
      },
      "outputs": [
        {
          "output_type": "stream",
          "name": "stdout",
          "text": [
            "[-4.26488844 -2.32220909 -2.04939399 -1.8762214  -1.74591452 -1.63988823\n",
            " -1.5496382  -1.47047929 -1.39960266 -1.335132   -1.27576838 -1.2206014\n",
            " -1.16890941 -1.12017062 -1.07395204 -1.0299317  -0.98780983 -0.94737551\n",
            " -0.90842889 -0.87082563 -0.83441032 -0.79906082 -0.76468831 -0.73120399\n",
            " -0.69850792 -0.6665446  -0.63525851 -0.60457195 -0.5744516  -0.54483085\n",
            " -0.51569859 -0.48698823 -0.45866644 -0.43072212 -0.40309978 -0.37578829\n",
            " -0.34874326 -0.32196468 -0.29540814 -0.26906255 -0.24289459 -0.21690427\n",
            " -0.19104718 -0.16532331 -0.13971047 -0.11418644 -0.08872902 -0.06333822\n",
            " -0.03799183 -0.01265654  0.01265654  0.03799183  0.06334933  0.08872902\n",
            "  0.11417534  0.13971047  0.16533441  0.19104718  0.21689317  0.24289459\n",
            "  0.26905145  0.29540814  0.32196468  0.34874326  0.37578829  0.40309978\n",
            "  0.43072212  0.45867754  0.48698823  0.51569859  0.54483085  0.5744516\n",
            "  0.60456085  0.63524741  0.6665557   0.69850792  0.73119288  0.76469941\n",
            "  0.79907192  0.83439922  0.87081453  0.90842889  0.94737551  0.98780983\n",
            "  1.0299317   1.07396314  1.12017062  1.16890941  1.2206014   1.27577948\n",
            "  1.335132    1.39959155  1.4704904   1.54962709  1.63988823  1.74591452\n",
            "  1.8762325   2.04940509  2.32220909  4.26489954]\n"
          ]
        }
      ],
      "source": [
        "from scipy.stats import norm\n",
        "import matplotlib.pyplot as plt\n",
        "import numpy as np\n",
        "\n",
        "x = np.linspace(0.00001,0.99999, 100)\n",
        "vals = norm.ppf(x)\n",
        "\n",
        "# specify values of 'g' and 'h' parameters\n",
        "g= 0.00000000001\n",
        "h= 0\n",
        "\n",
        "# calculate Tukey quantiles\n",
        "t =(1/g)*np.exp(h*vals**2/2)*(np.exp(g*vals)-1)\n",
        "\n",
        "print(t)"
      ]
    }
  ]
}
