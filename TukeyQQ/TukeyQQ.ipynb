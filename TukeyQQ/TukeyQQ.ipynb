{
  "nbformat": 4,
  "nbformat_minor": 0,
  "metadata": {
    "colab": {
      "name": "TukeyQQ.ipynb",
      "provenance": [],
      "collapsed_sections": [],
      "authorship_tag": "ABX9TyMCtgdT78PzQ+Yx5Yh6yHGE",
      "include_colab_link": true
    },
    "kernelspec": {
      "name": "python3",
      "display_name": "Python 3"
    },
    "language_info": {
      "name": "python"
    }
  },
  "cells": [
    {
      "cell_type": "markdown",
      "metadata": {
        "id": "view-in-github",
        "colab_type": "text"
      },
      "source": [
        "<a href=\"https://colab.research.google.com/github/QuantLet/Tukey/blob/master/TukeyQQ/TukeyQQ.ipynb\" target=\"_parent\"><img src=\"https://colab.research.google.com/assets/colab-badge.svg\" alt=\"Open In Colab\"/></a>"
      ]
    },
    {
      "cell_type": "code",
      "execution_count": 3,
      "metadata": {
        "colab": {
          "base_uri": "https://localhost:8080/",
          "height": 773
        },
        "id": "u_UQ-Jj9O_ST",
        "outputId": "eb4d1003-5caa-4647-90ae-d39fbade6d68"
      },
      "outputs": [
        {
          "output_type": "display_data",
          "data": {
            "text/plain": [
              "<IPython.core.display.Javascript object>"
            ],
            "application/javascript": [
              "\n",
              "    async function download(id, filename, size) {\n",
              "      if (!google.colab.kernel.accessAllowed) {\n",
              "        return;\n",
              "      }\n",
              "      const div = document.createElement('div');\n",
              "      const label = document.createElement('label');\n",
              "      label.textContent = `Downloading \"${filename}\": `;\n",
              "      div.appendChild(label);\n",
              "      const progress = document.createElement('progress');\n",
              "      progress.max = size;\n",
              "      div.appendChild(progress);\n",
              "      document.body.appendChild(div);\n",
              "\n",
              "      const buffers = [];\n",
              "      let downloaded = 0;\n",
              "\n",
              "      const channel = await google.colab.kernel.comms.open(id);\n",
              "      // Send a message to notify the kernel that we're ready.\n",
              "      channel.send({})\n",
              "\n",
              "      for await (const message of channel.messages) {\n",
              "        // Send a message to notify the kernel that we're ready.\n",
              "        channel.send({})\n",
              "        if (message.buffers) {\n",
              "          for (const buffer of message.buffers) {\n",
              "            buffers.push(buffer);\n",
              "            downloaded += buffer.byteLength;\n",
              "            progress.value = downloaded;\n",
              "          }\n",
              "        }\n",
              "      }\n",
              "      const blob = new Blob(buffers, {type: 'application/binary'});\n",
              "      const a = document.createElement('a');\n",
              "      a.href = window.URL.createObjectURL(blob);\n",
              "      a.download = filename;\n",
              "      div.appendChild(a);\n",
              "      a.click();\n",
              "      div.remove();\n",
              "    }\n",
              "  "
            ]
          },
          "metadata": {}
        },
        {
          "output_type": "display_data",
          "data": {
            "text/plain": [
              "<IPython.core.display.Javascript object>"
            ],
            "application/javascript": [
              "download(\"download_bb588eb4-8377-486f-a36d-2777eb1a5e3f\", \"dax_vs_tukey.png\", 13468)"
            ]
          },
          "metadata": {}
        },
        {
          "output_type": "display_data",
          "data": {
            "text/plain": [
              "<Figure size 432x288 with 1 Axes>"
            ],
            "image/png": "[encoded data removed]"
          },
          "metadata": {
            "needs_background": "light"
          }
        },
        {
          "output_type": "display_data",
          "data": {
            "text/plain": [
              "<IPython.core.display.Javascript object>"
            ],
            "application/javascript": [
              "\n",
              "    async function download(id, filename, size) {\n",
              "      if (!google.colab.kernel.accessAllowed) {\n",
              "        return;\n",
              "      }\n",
              "      const div = document.createElement('div');\n",
              "      const label = document.createElement('label');\n",
              "      label.textContent = `Downloading \"${filename}\": `;\n",
              "      div.appendChild(label);\n",
              "      const progress = document.createElement('progress');\n",
              "      progress.max = size;\n",
              "      div.appendChild(progress);\n",
              "      document.body.appendChild(div);\n",
              "\n",
              "      const buffers = [];\n",
              "      let downloaded = 0;\n",
              "\n",
              "      const channel = await google.colab.kernel.comms.open(id);\n",
              "      // Send a message to notify the kernel that we're ready.\n",
              "      channel.send({})\n",
              "\n",
              "      for await (const message of channel.messages) {\n",
              "        // Send a message to notify the kernel that we're ready.\n",
              "        channel.send({})\n",
              "        if (message.buffers) {\n",
              "          for (const buffer of message.buffers) {\n",
              "            buffers.push(buffer);\n",
              "            downloaded += buffer.byteLength;\n",
              "            progress.value = downloaded;\n",
              "          }\n",
              "        }\n",
              "      }\n",
              "      const blob = new Blob(buffers, {type: 'application/binary'});\n",
              "      const a = document.createElement('a');\n",
              "      a.href = window.URL.createObjectURL(blob);\n",
              "      a.download = filename;\n",
              "      div.appendChild(a);\n",
              "      a.click();\n",
              "      div.remove();\n",
              "    }\n",
              "  "
            ]
          },
          "metadata": {}
        },
        {
          "output_type": "display_data",
          "data": {
            "text/plain": [
              "<IPython.core.display.Javascript object>"
            ],
            "application/javascript": [
              "download(\"download_eeeec80a-fa42-4012-94e2-2740bb92c049\", \"ether_return.png\", 11406)"
            ]
          },
          "metadata": {}
        },
        {
          "output_type": "display_data",
          "data": {
            "text/plain": [
              "<Figure size 432x288 with 1 Axes>"
            ],
            "image/png": "[encoded data removed]"
          },
          "metadata": {
            "needs_background": "light"
          }
        },
        {
          "output_type": "display_data",
          "data": {
            "text/plain": [
              "<IPython.core.display.Javascript object>"
            ],
            "application/javascript": [
              "\n",
              "    async function download(id, filename, size) {\n",
              "      if (!google.colab.kernel.accessAllowed) {\n",
              "        return;\n",
              "      }\n",
              "      const div = document.createElement('div');\n",
              "      const label = document.createElement('label');\n",
              "      label.textContent = `Downloading \"${filename}\": `;\n",
              "      div.appendChild(label);\n",
              "      const progress = document.createElement('progress');\n",
              "      progress.max = size;\n",
              "      div.appendChild(progress);\n",
              "      document.body.appendChild(div);\n",
              "\n",
              "      const buffers = [];\n",
              "      let downloaded = 0;\n",
              "\n",
              "      const channel = await google.colab.kernel.comms.open(id);\n",
              "      // Send a message to notify the kernel that we're ready.\n",
              "      channel.send({})\n",
              "\n",
              "      for await (const message of channel.messages) {\n",
              "        // Send a message to notify the kernel that we're ready.\n",
              "        channel.send({})\n",
              "        if (message.buffers) {\n",
              "          for (const buffer of message.buffers) {\n",
              "            buffers.push(buffer);\n",
              "            downloaded += buffer.byteLength;\n",
              "            progress.value = downloaded;\n",
              "          }\n",
              "        }\n",
              "      }\n",
              "      const blob = new Blob(buffers, {type: 'application/binary'});\n",
              "      const a = document.createElement('a');\n",
              "      a.href = window.URL.createObjectURL(blob);\n",
              "      a.download = filename;\n",
              "      div.appendChild(a);\n",
              "      a.click();\n",
              "      div.remove();\n",
              "    }\n",
              "  "
            ]
          },
          "metadata": {}
        },
        {
          "output_type": "display_data",
          "data": {
            "text/plain": [
              "<IPython.core.display.Javascript object>"
            ],
            "application/javascript": [
              "download(\"download_a0651c23-dcdb-40a2-830d-14417594cea7\", \"etherestimate.png\", 9759)"
            ]
          },
          "metadata": {}
        },
        {
          "output_type": "display_data",
          "data": {
            "text/plain": [
              "<Figure size 432x288 with 1 Axes>"
            ],
            "image/png": "[encoded data removed]"
          },
          "metadata": {
            "needs_background": "light"
          }
        }
      ],
      "source": [
        "import matplotlib.pyplot as plt\n",
        "import numpy as np\n",
        "import statsmodels.api as sm\n",
        "import pylab\n",
        "import pandas as pd\n",
        "from scipy.stats import norm\n",
        "from google.colab import files\n",
        "from google.colab import drive \n",
        "from sklearn.preprocessing import StandardScaler\n",
        "\n",
        "\n",
        "x = np.linspace(-4,4, 2000)\n",
        "\n",
        "#DAX returns \n",
        "\n",
        "#Estimated via Quantlet TukeyEmpirical based on moment matching\n",
        "g1=-0.08\n",
        "h1=0.15\n",
        "T1=(1/g1)*np.exp(h1*x**2/2)*(np.exp(g1*x)-1)\n",
        "\n",
        "#Read data either locally or from gdrive\n",
        "dax = pd.read_csv(\"https://raw.githubusercontent.com/QuantLet/Tukey/master/dax8Y.csv\", delimiter = \";\")\n",
        "dax.dropna(inplace = True)\n",
        "\n",
        "dax = dax[dax[\"RET\"] != \"C\"]\n",
        "dax[\"RET\"] = [float(x) for x in dax[\"RET\"]]\n",
        "mu = np.mean(dax[\"RET\"])\n",
        "std = np.std(dax[\"RET\"])\n",
        "\n",
        "dax[\"RET_s\"] =  (dax[\"RET\"] - mu) / std\n",
        "\n",
        "pp = sm.ProbPlot(dax[\"RET_s\"], fit=True)\n",
        "qq = pp.qqplot(marker='.', markerfacecolor='k', markeredgecolor='r', alpha=0.1)\n",
        "sm.qqline(qq.axes[0], line='45', fmt='k--')\n",
        "plt.plot(x, T1, color = \"blue\", linewidth = 2.5)\n",
        "plt.ylim((-4,4))\n",
        "plt.xlim((-4,4))\n",
        "plt.xticks(range(-4, 5, 1))\n",
        "plt.xlabel(\"\")\n",
        "plt.ylabel(\"\")\n",
        "plt.gca().set_aspect('equal', adjustable='box')\n",
        "plt.savefig(\"dax_vs_tukey.png\")\n",
        "files.download(\"dax_vs_tukey.png\") \n",
        "plt.show()\n",
        "\n",
        "x = np.linspace(-4,4, 2000)\n",
        "\n",
        "#Crypto returns \n",
        "\n",
        "#Estimated via Quantlet TukeyEmpirical based on moment matching\n",
        "g1=0.02\n",
        "h1=0.17\n",
        "T1=(1/g1)*np.exp(h1*x**2/2)*(np.exp(g1*x)-1)\n",
        "\n",
        "ether_data = pd.read_csv(\"https://raw.githubusercontent.com/QuantLet/Tukey/master/etherprice.csv\")\n",
        "\n",
        "ether_data[\"daily_returns\"] = ether_data[\"Value\"].pct_change(1) + 1\n",
        "#Drop NaNs and infinite values\n",
        "ether_data.replace([np.inf, -np.inf], np.nan, inplace=True)\n",
        "ether_data.dropna(inplace = True)\n",
        "mu = np.mean(ether_data[\"daily_returns\"])\n",
        "std = np.std(ether_data[\"daily_returns\"])\n",
        "\n",
        "ether_data[\"daily_returns_s\"] = (ether_data[\"daily_returns\"] - mu) / std\n",
        "\n",
        "pp = sm.ProbPlot(ether_data[\"daily_returns_s\"], fit=True)\n",
        "qq = pp.qqplot(marker='.', markerfacecolor='k', markeredgecolor='r', alpha=0.1)\n",
        "sm.qqline(qq.axes[0], line='45', fmt='k--')\n",
        "plt.ylim((-4,4))\n",
        "plt.xlim((-4,4))\n",
        "plt.xticks(range(-4, 5, 1))\n",
        "plt.xlabel(\"\")\n",
        "plt.ylabel(\"\")\n",
        "plt.gca().set_aspect('equal', adjustable='box')\n",
        "plt.savefig(\"ether_return.png\")\n",
        "files.download(\"ether_return.png\")\n",
        "plt.show() \n",
        "\n",
        "plt.plot(x, T1, color = \"blue\", linewidth = 2.5)\n",
        "plt.plot(x,x, linestyle = \"dashed\", color = \"black\")\n",
        "plt.ylim((-4,4))\n",
        "plt.xlim((-4,4))\n",
        "plt.xticks(range(-4, 5, 1))\n",
        "plt.xlabel(\"\")\n",
        "plt.ylabel(\"\")\n",
        "plt.gca().set_aspect('equal', adjustable='box')\n",
        "plt.savefig(\"etherestimate.png\")\n",
        "files.download(\"etherestimate.png\") \n",
        "plt.show()\n",
        "\n"
      ]
    }
  ]
}