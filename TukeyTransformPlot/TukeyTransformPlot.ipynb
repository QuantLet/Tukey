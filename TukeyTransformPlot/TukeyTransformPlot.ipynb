{
  "nbformat": 4,
  "nbformat_minor": 0,
  "metadata": {
    "colab": {
      "name": "TukeyTransformPlot.pynb",
      "provenance": [],
      "collapsed_sections": [],
      "authorship_tag": "ABX9TyMXdcVdPRFjn4bZOK5uHvAW",
      "include_colab_link": true
    },
    "kernelspec": {
      "name": "python3",
      "display_name": "Python 3"
    },
    "language_info": {
      "name": "python"
    }
  },
  "cells": [
    {
      "cell_type": "markdown",
      "metadata": {
        "id": "view-in-github",
        "colab_type": "text"
      },
      "source": [
        "<a href=\"https://colab.research.google.com/github/QuantLet/Tukey/blob/master/TukeyTransformPlot/TukeyTransformPlot.ipynb\" target=\"_parent\"><img src=\"https://colab.research.google.com/assets/colab-badge.svg\" alt=\"Open In Colab\"/></a>"
      ]
    },
    {
      "cell_type": "code",
      "execution_count": 29,
      "metadata": {
        "colab": {
          "base_uri": "https://localhost:8080/",
          "height": 1000
        },
        "id": "0_mtsXgzYpqE",
        "outputId": "82dc2266-c05b-4a03-b65d-9ea112e8b651"
      },
      "outputs": [
        {
          "output_type": "display_data",
          "data": {
            "text/plain": [
              "<IPython.core.display.Javascript object>"
            ],
            "application/javascript": [
              "\n",
              "    async function download(id, filename, size) {\n",
              "      if (!google.colab.kernel.accessAllowed) {\n",
              "        return;\n",
              "      }\n",
              "      const div = document.createElement('div');\n",
              "      const label = document.createElement('label');\n",
              "      label.textContent = `Downloading \"${filename}\": `;\n",
              "      div.appendChild(label);\n",
              "      const progress = document.createElement('progress');\n",
              "      progress.max = size;\n",
              "      div.appendChild(progress);\n",
              "      document.body.appendChild(div);\n",
              "\n",
              "      const buffers = [];\n",
              "      let downloaded = 0;\n",
              "\n",
              "      const channel = await google.colab.kernel.comms.open(id);\n",
              "      // Send a message to notify the kernel that we're ready.\n",
              "      channel.send({})\n",
              "\n",
              "      for await (const message of channel.messages) {\n",
              "        // Send a message to notify the kernel that we're ready.\n",
              "        channel.send({})\n",
              "        if (message.buffers) {\n",
              "          for (const buffer of message.buffers) {\n",
              "            buffers.push(buffer);\n",
              "            downloaded += buffer.byteLength;\n",
              "            progress.value = downloaded;\n",
              "          }\n",
              "        }\n",
              "      }\n",
              "      const blob = new Blob(buffers, {type: 'application/binary'});\n",
              "      const a = document.createElement('a');\n",
              "      a.href = window.URL.createObjectURL(blob);\n",
              "      a.download = filename;\n",
              "      div.appendChild(a);\n",
              "      a.click();\n",
              "      div.remove();\n",
              "    }\n",
              "  "
            ]
          },
          "metadata": {}
        },
        {
          "output_type": "display_data",
          "data": {
            "text/plain": [
              "<IPython.core.display.Javascript object>"
            ],
            "application/javascript": [
              "download(\"download_2bcb84f0-a2b1-4e6e-97f9-f0450567abf6\", \"g0h0_1.png\", 14250)"
            ]
          },
          "metadata": {}
        },
        {
          "output_type": "display_data",
          "data": {
            "text/plain": [
              "<Figure size 432x288 with 1 Axes>"
            ],
            "image/png": "[encoded data removed]"
          },
          "metadata": {
            "needs_background": "light"
          }
        },
        {
          "output_type": "display_data",
          "data": {
            "text/plain": [
              "<IPython.core.display.Javascript object>"
            ],
            "application/javascript": [
              "\n",
              "    async function download(id, filename, size) {\n",
              "      if (!google.colab.kernel.accessAllowed) {\n",
              "        return;\n",
              "      }\n",
              "      const div = document.createElement('div');\n",
              "      const label = document.createElement('label');\n",
              "      label.textContent = `Downloading \"${filename}\": `;\n",
              "      div.appendChild(label);\n",
              "      const progress = document.createElement('progress');\n",
              "      progress.max = size;\n",
              "      div.appendChild(progress);\n",
              "      document.body.appendChild(div);\n",
              "\n",
              "      const buffers = [];\n",
              "      let downloaded = 0;\n",
              "\n",
              "      const channel = await google.colab.kernel.comms.open(id);\n",
              "      // Send a message to notify the kernel that we're ready.\n",
              "      channel.send({})\n",
              "\n",
              "      for await (const message of channel.messages) {\n",
              "        // Send a message to notify the kernel that we're ready.\n",
              "        channel.send({})\n",
              "        if (message.buffers) {\n",
              "          for (const buffer of message.buffers) {\n",
              "            buffers.push(buffer);\n",
              "            downloaded += buffer.byteLength;\n",
              "            progress.value = downloaded;\n",
              "          }\n",
              "        }\n",
              "      }\n",
              "      const blob = new Blob(buffers, {type: 'application/binary'});\n",
              "      const a = document.createElement('a');\n",
              "      a.href = window.URL.createObjectURL(blob);\n",
              "      a.download = filename;\n",
              "      div.appendChild(a);\n",
              "      a.click();\n",
              "      div.remove();\n",
              "    }\n",
              "  "
            ]
          },
          "metadata": {}
        },
        {
          "output_type": "display_data",
          "data": {
            "text/plain": [
              "<IPython.core.display.Javascript object>"
            ],
            "application/javascript": [
              "download(\"download_1b0f2cb1-c85a-430e-a72b-4d50253fef00\", \"gn0_1h0_3.png\", 14902)"
            ]
          },
          "metadata": {}
        },
        {
          "output_type": "display_data",
          "data": {
            "text/plain": [
              "<Figure size 432x288 with 1 Axes>"
            ],
            "image/png": "[encoded data removed]"
          },
          "metadata": {
            "needs_background": "light"
          }
        },
        {
          "output_type": "display_data",
          "data": {
            "text/plain": [
              "<IPython.core.display.Javascript object>"
            ],
            "application/javascript": [
              "\n",
              "    async function download(id, filename, size) {\n",
              "      if (!google.colab.kernel.accessAllowed) {\n",
              "        return;\n",
              "      }\n",
              "      const div = document.createElement('div');\n",
              "      const label = document.createElement('label');\n",
              "      label.textContent = `Downloading \"${filename}\": `;\n",
              "      div.appendChild(label);\n",
              "      const progress = document.createElement('progress');\n",
              "      progress.max = size;\n",
              "      div.appendChild(progress);\n",
              "      document.body.appendChild(div);\n",
              "\n",
              "      const buffers = [];\n",
              "      let downloaded = 0;\n",
              "\n",
              "      const channel = await google.colab.kernel.comms.open(id);\n",
              "      // Send a message to notify the kernel that we're ready.\n",
              "      channel.send({})\n",
              "\n",
              "      for await (const message of channel.messages) {\n",
              "        // Send a message to notify the kernel that we're ready.\n",
              "        channel.send({})\n",
              "        if (message.buffers) {\n",
              "          for (const buffer of message.buffers) {\n",
              "            buffers.push(buffer);\n",
              "            downloaded += buffer.byteLength;\n",
              "            progress.value = downloaded;\n",
              "          }\n",
              "        }\n",
              "      }\n",
              "      const blob = new Blob(buffers, {type: 'application/binary'});\n",
              "      const a = document.createElement('a');\n",
              "      a.href = window.URL.createObjectURL(blob);\n",
              "      a.download = filename;\n",
              "      div.appendChild(a);\n",
              "      a.click();\n",
              "      div.remove();\n",
              "    }\n",
              "  "
            ]
          },
          "metadata": {}
        },
        {
          "output_type": "display_data",
          "data": {
            "text/plain": [
              "<IPython.core.display.Javascript object>"
            ],
            "application/javascript": [
              "download(\"download_39b35f25-f107-49af-a208-f22b314dab22\", \"g0_2h0_2.png\", 15248)"
            ]
          },
          "metadata": {}
        },
        {
          "output_type": "display_data",
          "data": {
            "text/plain": [
              "<Figure size 432x288 with 1 Axes>"
            ],
            "image/png": "[encoded data removed]"
          },
          "metadata": {
            "needs_background": "light"
          }
        },
        {
          "output_type": "display_data",
          "data": {
            "text/plain": [
              "<IPython.core.display.Javascript object>"
            ],
            "application/javascript": [
              "\n",
              "    async function download(id, filename, size) {\n",
              "      if (!google.colab.kernel.accessAllowed) {\n",
              "        return;\n",
              "      }\n",
              "      const div = document.createElement('div');\n",
              "      const label = document.createElement('label');\n",
              "      label.textContent = `Downloading \"${filename}\": `;\n",
              "      div.appendChild(label);\n",
              "      const progress = document.createElement('progress');\n",
              "      progress.max = size;\n",
              "      div.appendChild(progress);\n",
              "      document.body.appendChild(div);\n",
              "\n",
              "      const buffers = [];\n",
              "      let downloaded = 0;\n",
              "\n",
              "      const channel = await google.colab.kernel.comms.open(id);\n",
              "      // Send a message to notify the kernel that we're ready.\n",
              "      channel.send({})\n",
              "\n",
              "      for await (const message of channel.messages) {\n",
              "        // Send a message to notify the kernel that we're ready.\n",
              "        channel.send({})\n",
              "        if (message.buffers) {\n",
              "          for (const buffer of message.buffers) {\n",
              "            buffers.push(buffer);\n",
              "            downloaded += buffer.byteLength;\n",
              "            progress.value = downloaded;\n",
              "          }\n",
              "        }\n",
              "      }\n",
              "      const blob = new Blob(buffers, {type: 'application/binary'});\n",
              "      const a = document.createElement('a');\n",
              "      a.href = window.URL.createObjectURL(blob);\n",
              "      a.download = filename;\n",
              "      div.appendChild(a);\n",
              "      a.click();\n",
              "      div.remove();\n",
              "    }\n",
              "  "
            ]
          },
          "metadata": {}
        },
        {
          "output_type": "display_data",
          "data": {
            "text/plain": [
              "<IPython.core.display.Javascript object>"
            ],
            "application/javascript": [
              "download(\"download_36f0cc3b-b366-4ad6-a10f-a901ec657e5d\", \"g0_5h0_5.png\", 14730)"
            ]
          },
          "metadata": {}
        },
        {
          "output_type": "display_data",
          "data": {
            "text/plain": [
              "<Figure size 432x288 with 1 Axes>"
            ],
            "image/png": "[encoded data removed]"
          },
          "metadata": {
            "needs_background": "light"
          }
        }
      ],
      "source": [
        "import matplotlib.pyplot as plt\n",
        "import numpy as np\n",
        "import math\n",
        "from google.colab import files\n",
        "\n",
        "x = np.linspace(-3,3,2000)\n",
        "\n",
        "\n",
        "#g = 0 and h = 0.1\n",
        "h1 = 0.1\n",
        "T1=np.exp(h1*x**2/2)*x\n",
        "\n",
        "plt.plot(x, T1, c = \"magenta\")\n",
        "plt.plot(x,x, linestyle = \"dashed\", color = \"black\")\n",
        "plt.xlabel(\"Standard Normal Quantiles\")\n",
        "plt.ylabel(\"Tukey Transformed Quantiles\")\n",
        "plt.title(\"g = 0 and h = 0.1\")\n",
        "plt.ylim((-3,3))\n",
        "plt.xlim((-3,3))\n",
        "plt.gca().set_aspect('equal', adjustable='box')\n",
        "plt.savefig(\"g0h0_1.png\")\n",
        "files.download(\"g0h0_1.png\") \n",
        "plt.show()\n",
        "\n",
        "#g = -0.1 and h = 0.3\n",
        "h1 = 0.3\n",
        "g1 = -0.1\n",
        "T1=(1/g1)*np.exp(h1*x**2/2)*(np.exp(g1*x)-1)\n",
        "\n",
        "plt.plot(x, T1, c = \"blue\")\n",
        "plt.plot(x,x, linestyle = \"dashed\", color = \"black\")\n",
        "plt.xlabel(\"Standard Normal Quantiles\")\n",
        "plt.ylabel(\"Tukey Transformed Quantiles\")\n",
        "plt.title(\"g = -0.1 and h = 0.3\")\n",
        "plt.ylim((-3,3))\n",
        "plt.xlim((-3,3))\n",
        "plt.gca().set_aspect('equal', adjustable='box')\n",
        "plt.savefig(\"gn0_1h0_3.png\")\n",
        "files.download(\"gn0_1h0_3.png\") \n",
        "plt.show()\n",
        "\n",
        "#g = 0.2 and h = 0.2\n",
        "h1 = 0.2\n",
        "g1 = 0.2\n",
        "T1=(1/g1)*np.exp(h1*x**2/2)*(np.exp(g1*x)-1)\n",
        "\n",
        "plt.plot(x, T1, c = \"black\")\n",
        "plt.plot(x,x, linestyle = \"dashed\", color = \"black\")\n",
        "plt.xlabel(\"Standard Normal Quantiles\")\n",
        "plt.ylabel(\"Tukey Transformed Quantiles\")\n",
        "plt.title(\"g = 0.2 and h = 0.2\")\n",
        "plt.ylim((-3,3))\n",
        "plt.xlim((-3,3))\n",
        "plt.gca().set_aspect('equal', adjustable='box')\n",
        "plt.savefig(\"g0_2h0_2.png\")\n",
        "files.download(\"g0_2h0_2.png\") \n",
        "plt.show()\n",
        "\n",
        "#g = 0.5 and h = 0.5\n",
        "h1 = 0.5\n",
        "g1 = 0.5\n",
        "T1=(1/g1)*np.exp(h1*x**2/2)*(np.exp(g1*x)-1)\n",
        "\n",
        "plt.plot(x, T1, c = \"red\")\n",
        "plt.plot(x,x, linestyle = \"dashed\", color = \"black\")\n",
        "plt.xlabel(\"Standard Normal Quantiles\")\n",
        "plt.ylabel(\"Tukey Transformed Quantiles\")\n",
        "plt.title(\"g = 0.5 and h = 0.5\")\n",
        "plt.ylim((-3,3))\n",
        "plt.xlim((-3,3))\n",
        "plt.gca().set_aspect('equal', adjustable='box')\n",
        "plt.savefig(\"g0_5h0_5.png\")\n",
        "files.download(\"g0_5h0_5.png\") \n",
        "plt.show()"
      ]
    }
  ]
}