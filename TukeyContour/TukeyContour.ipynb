{
  "cells": [
    {
      "cell_type": "markdown",
      "metadata": {
        "id": "view-in-github",
        "colab_type": "text"
      },
      "source": [
        "<a href=\"https://colab.research.google.com/github/AlexH20/Tukey/blob/master/TukeyContour.ipynb\" target=\"_parent\"><img src=\"https://colab.research.google.com/assets/colab-badge.svg\" alt=\"Open In Colab\"/></a>"
      ]
    },
    {
      "cell_type": "code",
      "execution_count": 4,
      "metadata": {
        "colab": {
          "base_uri": "https://localhost:8080/",
          "height": 17
        },
        "id": "4l8AJWk9y6Ng",
        "outputId": "75e2da4d-570f-4638-ed8f-36ee2273d635"
      },
      "outputs": [
        {
          "output_type": "display_data",
          "data": {
            "text/plain": [
              "<IPython.core.display.Javascript object>"
            ],
            "application/javascript": [
              "\n",
              "    async function download(id, filename, size) {\n",
              "      if (!google.colab.kernel.accessAllowed) {\n",
              "        return;\n",
              "      }\n",
              "      const div = document.createElement('div');\n",
              "      const label = document.createElement('label');\n",
              "      label.textContent = `Downloading \"${filename}\": `;\n",
              "      div.appendChild(label);\n",
              "      const progress = document.createElement('progress');\n",
              "      progress.max = size;\n",
              "      div.appendChild(progress);\n",
              "      document.body.appendChild(div);\n",
              "\n",
              "      const buffers = [];\n",
              "      let downloaded = 0;\n",
              "\n",
              "      const channel = await google.colab.kernel.comms.open(id);\n",
              "      // Send a message to notify the kernel that we're ready.\n",
              "      channel.send({})\n",
              "\n",
              "      for await (const message of channel.messages) {\n",
              "        // Send a message to notify the kernel that we're ready.\n",
              "        channel.send({})\n",
              "        if (message.buffers) {\n",
              "          for (const buffer of message.buffers) {\n",
              "            buffers.push(buffer);\n",
              "            downloaded += buffer.byteLength;\n",
              "            progress.value = downloaded;\n",
              "          }\n",
              "        }\n",
              "      }\n",
              "      const blob = new Blob(buffers, {type: 'application/binary'});\n",
              "      const a = document.createElement('a');\n",
              "      a.href = window.URL.createObjectURL(blob);\n",
              "      a.download = filename;\n",
              "      div.appendChild(a);\n",
              "      a.click();\n",
              "      div.remove();\n",
              "    }\n",
              "  "
            ]
          },
          "metadata": {}
        },
        {
          "output_type": "display_data",
          "data": {
            "text/plain": [
              "<IPython.core.display.Javascript object>"
            ],
            "application/javascript": [
              "download(\"download_5590d92f-48e2-4fa7-8a42-5b0befba54bf\", \"tukeycontour1.png\", 14692)"
            ]
          },
          "metadata": {}
        },
        {
          "output_type": "display_data",
          "data": {
            "text/plain": [
              "<IPython.core.display.Javascript object>"
            ],
            "application/javascript": [
              "\n",
              "    async function download(id, filename, size) {\n",
              "      if (!google.colab.kernel.accessAllowed) {\n",
              "        return;\n",
              "      }\n",
              "      const div = document.createElement('div');\n",
              "      const label = document.createElement('label');\n",
              "      label.textContent = `Downloading \"${filename}\": `;\n",
              "      div.appendChild(label);\n",
              "      const progress = document.createElement('progress');\n",
              "      progress.max = size;\n",
              "      div.appendChild(progress);\n",
              "      document.body.appendChild(div);\n",
              "\n",
              "      const buffers = [];\n",
              "      let downloaded = 0;\n",
              "\n",
              "      const channel = await google.colab.kernel.comms.open(id);\n",
              "      // Send a message to notify the kernel that we're ready.\n",
              "      channel.send({})\n",
              "\n",
              "      for await (const message of channel.messages) {\n",
              "        // Send a message to notify the kernel that we're ready.\n",
              "        channel.send({})\n",
              "        if (message.buffers) {\n",
              "          for (const buffer of message.buffers) {\n",
              "            buffers.push(buffer);\n",
              "            downloaded += buffer.byteLength;\n",
              "            progress.value = downloaded;\n",
              "          }\n",
              "        }\n",
              "      }\n",
              "      const blob = new Blob(buffers, {type: 'application/binary'});\n",
              "      const a = document.createElement('a');\n",
              "      a.href = window.URL.createObjectURL(blob);\n",
              "      a.download = filename;\n",
              "      div.appendChild(a);\n",
              "      a.click();\n",
              "      div.remove();\n",
              "    }\n",
              "  "
            ]
          },
          "metadata": {}
        },
        {
          "output_type": "display_data",
          "data": {
            "text/plain": [
              "<IPython.core.display.Javascript object>"
            ],
            "application/javascript": [
              "download(\"download_accb23da-ca3f-4642-a645-e57419c7a428\", \"tukeycontour2.png\", 14842)"
            ]
          },
          "metadata": {}
        },
        {
          "output_type": "display_data",
          "data": {
            "text/plain": [
              "<IPython.core.display.Javascript object>"
            ],
            "application/javascript": [
              "\n",
              "    async function download(id, filename, size) {\n",
              "      if (!google.colab.kernel.accessAllowed) {\n",
              "        return;\n",
              "      }\n",
              "      const div = document.createElement('div');\n",
              "      const label = document.createElement('label');\n",
              "      label.textContent = `Downloading \"${filename}\": `;\n",
              "      div.appendChild(label);\n",
              "      const progress = document.createElement('progress');\n",
              "      progress.max = size;\n",
              "      div.appendChild(progress);\n",
              "      document.body.appendChild(div);\n",
              "\n",
              "      const buffers = [];\n",
              "      let downloaded = 0;\n",
              "\n",
              "      const channel = await google.colab.kernel.comms.open(id);\n",
              "      // Send a message to notify the kernel that we're ready.\n",
              "      channel.send({})\n",
              "\n",
              "      for await (const message of channel.messages) {\n",
              "        // Send a message to notify the kernel that we're ready.\n",
              "        channel.send({})\n",
              "        if (message.buffers) {\n",
              "          for (const buffer of message.buffers) {\n",
              "            buffers.push(buffer);\n",
              "            downloaded += buffer.byteLength;\n",
              "            progress.value = downloaded;\n",
              "          }\n",
              "        }\n",
              "      }\n",
              "      const blob = new Blob(buffers, {type: 'application/binary'});\n",
              "      const a = document.createElement('a');\n",
              "      a.href = window.URL.createObjectURL(blob);\n",
              "      a.download = filename;\n",
              "      div.appendChild(a);\n",
              "      a.click();\n",
              "      div.remove();\n",
              "    }\n",
              "  "
            ]
          },
          "metadata": {}
        },
        {
          "output_type": "display_data",
          "data": {
            "text/plain": [
              "<IPython.core.display.Javascript object>"
            ],
            "application/javascript": [
              "download(\"download_ca052574-29f7-4b40-8ea7-f74926062459\", \"sncontour.png\", 25915)"
            ]
          },
          "metadata": {}
        }
      ],
      "source": [
        "import matplotlib.pyplot as plt\n",
        "import numpy as np\n",
        "import math\n",
        "from google.colab import files\n",
        "import seaborn as sns\n",
        "import pandas as pd\n",
        "\n",
        "def normpdf(x):\n",
        "  y0 = 1/np.sqrt(2*math.pi)*np.exp(-x**2/2)\n",
        "  return y0\n",
        "\n",
        "def tukeypdf(x, g, h):\n",
        "  y0 = 1/np.sqrt(2*math.pi)*np.exp(-x**2/2)\n",
        "  yy1 = np.exp(g*x+h*x**2/2)+(1/g)*np.exp(h*x**2/2)*(np.exp(g*x)-1)*h*x\n",
        "  y11 = y0/yy1 \n",
        "  return y11\n",
        "\n",
        "def tukeyquantiles(x, g, h):\n",
        "  T1=(1/g)*np.exp(h*x**2/2)*(np.exp(g*x)-1)\n",
        "  return T1\n",
        "\n",
        "mus = np.linspace(-3, 3, 2000)\n",
        "taus = np.linspace(-3, 3, 2000)\n",
        "\n",
        "#Contour plot g = 0.9 and h = 0.09\n",
        "\n",
        "g=0.9\n",
        "h=0.09\n",
        "\n",
        "mus_t = tukeyquantiles(mus, g, h)\n",
        "taus_t = tukeyquantiles(mus, g, h)\n",
        "\n",
        "M, T = np.meshgrid(mus_t, taus_t)\n",
        "Z = np.zeros_like(M)\n",
        "\n",
        "for i in range(Z.shape[0]):\n",
        "    for j in range(Z.shape[1]):\n",
        "        Z[i][j] = tukeypdf(mus[i], g, h) * tukeypdf(taus[j], g, h)\n",
        "\n",
        "plt.figure(figsize = (282/192, 265/192), dpi = 192)\n",
        "plt.contour(M, T, Z)\n",
        "plt.gca().set_aspect('equal', adjustable='box')\n",
        "plt.xlim((-3, 3))\n",
        "plt.ylim((-3, 3))\n",
        "plt.xticks([-2, 0, 2], fontsize = 5)\n",
        "plt.yticks([-2, 0, 2], fontsize = 5)\n",
        "plt.xlabel(\"X\")\n",
        "plt.ylabel(\"Y\")\n",
        "plt.savefig(\"tukeycontour1.png\", dpi = 192)\n",
        "files.download(\"tukeycontour1.png\") \n",
        "plt.close()\n",
        "\n",
        "#Contour plot g = -0.9 and h = 0.09\n",
        "\n",
        "g=-0.9\n",
        "h=0.09\n",
        "\n",
        "mus_t = tukeyquantiles(mus, g, h)\n",
        "taus_t = tukeyquantiles(mus, g, h)\n",
        "\n",
        "M, T = np.meshgrid(mus_t, taus_t)\n",
        "Z = np.zeros_like(M)\n",
        "\n",
        "for i in range(Z.shape[0]):\n",
        "    for j in range(Z.shape[1]):\n",
        "        Z[i][j] = tukeypdf(mus[i], g, h) * tukeypdf(taus[j], g, h)\n",
        "\n",
        "plt.figure(figsize = (282/192, 265/192), dpi = 192)\n",
        "plt.contour(M, T, Z)\n",
        "plt.gca().set_aspect('equal', adjustable='box')\n",
        "plt.xlim((-3, 3))\n",
        "plt.ylim((-3, 3))\n",
        "plt.xticks([-2, 0, 2], fontsize = 5)\n",
        "plt.yticks([-2, 0, 2], fontsize = 5)\n",
        "plt.xlabel(\"X\")\n",
        "plt.ylabel(\"Y\")\n",
        "plt.savefig(\"tukeycontour2.png\", dpi = 192)\n",
        "files.download(\"tukeycontour2.png\") \n",
        "plt.close()\n",
        "\n",
        "#Contour plot Standard Bivariate Normal\n",
        "\n",
        "M, T = np.meshgrid(mus, taus)\n",
        "Z = np.zeros_like(M)\n",
        "\n",
        "for i in range(Z.shape[0]):\n",
        "    for j in range(Z.shape[1]):\n",
        "        Z[i][j] = normpdf(mus[i]) * normpdf(taus[j])\n",
        "\n",
        "plt.figure(figsize = (282/192, 265/192), dpi = 192)\n",
        "plt.contour(M, T, Z)\n",
        "plt.gca().set_aspect('equal', adjustable='box')\n",
        "plt.xlim((-3, 3))\n",
        "plt.ylim((-3, 3))\n",
        "plt.xticks([-2, 0, 2], fontsize = 5)\n",
        "plt.yticks([-2, 0, 2], fontsize = 5)\n",
        "plt.xlabel(\"X\")\n",
        "plt.ylabel(\"Y\")\n",
        "plt.savefig(\"sncontour.png\", dpi = 192)\n",
        "files.download(\"sncontour.png\")\n",
        "plt.close()\n"
      ]
    }
  ],
  "metadata": {
    "colab": {
      "name": "TukeyContour.ipynb",
      "provenance": [],
      "authorship_tag": "ABX9TyPgRz5WdsdK7VPVGg6lkjLY",
      "include_colab_link": true
    },
    "kernelspec": {
      "display_name": "Python 3",
      "name": "python3"
    },
    "language_info": {
      "name": "python"
    }
  },
  "nbformat": 4,
  "nbformat_minor": 0
}
